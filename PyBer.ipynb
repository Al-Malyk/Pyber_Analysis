{
 "cells": [
  {
   "cell_type": "code",
   "execution_count": 26,
   "id": "059785bf",
   "metadata": {},
   "outputs": [],
   "source": [
    "%matplotlib inline"
   ]
  },
  {
   "cell_type": "code",
   "execution_count": 27,
   "id": "aae04203",
   "metadata": {},
   "outputs": [],
   "source": [
    "# import dependencies\n",
    "import pandas as pd\n",
    "import os\n",
    "import matplotlib.pyplot as plt\n",
    "import numpy as np\n",
    "import scipy.stats as sts"
   ]
  },
  {
   "cell_type": "code",
   "execution_count": 28,
   "id": "e7c96616",
   "metadata": {},
   "outputs": [],
   "source": [
    "# files to be read\n",
    "# NOTE TO SELF, resources before the file name.\n",
    "\n",
    "ride_data_file = os.path.join('Resources' , 'ride_data.csv')\n",
    "city_data_file = os.path.join('Resources' , 'city_data.csv')"
   ]
  },
  {
   "cell_type": "code",
   "execution_count": 29,
   "id": "1701d639",
   "metadata": {},
   "outputs": [],
   "source": [
    "# create dataframes\n",
    "ride_data_df = pd.read_csv(ride_data_file)\n",
    "city_data_df = pd.read_csv(city_data_file)"
   ]
  },
  {
   "cell_type": "code",
   "execution_count": 30,
   "id": "8ad08cd4",
   "metadata": {},
   "outputs": [
    {
     "data": {
      "text/plain": [
       "city       0\n",
       "date       0\n",
       "fare       0\n",
       "ride_id    0\n",
       "dtype: int64"
      ]
     },
     "execution_count": 30,
     "metadata": {},
     "output_type": "execute_result"
    }
   ],
   "source": [
    "# checking if there are missing values\n",
    "ride_data_df.isnull().sum()"
   ]
  },
  {
   "cell_type": "code",
   "execution_count": 31,
   "id": "2df97ddf",
   "metadata": {},
   "outputs": [
    {
     "data": {
      "text/plain": [
       "city            0\n",
       "driver_count    0\n",
       "type            0\n",
       "dtype: int64"
      ]
     },
     "execution_count": 31,
     "metadata": {},
     "output_type": "execute_result"
    }
   ],
   "source": [
    "city_data_df.isnull().sum()"
   ]
  },
  {
   "cell_type": "code",
   "execution_count": 32,
   "id": "88ba2c3e",
   "metadata": {},
   "outputs": [
    {
     "data": {
      "text/plain": [
       "dtype('int64')"
      ]
     },
     "execution_count": 32,
     "metadata": {},
     "output_type": "execute_result"
    }
   ],
   "source": [
    "city_data_df['driver_count'].dtype"
   ]
  },
  {
   "cell_type": "code",
   "execution_count": 33,
   "id": "9b764954",
   "metadata": {},
   "outputs": [
    {
     "name": "stdout",
     "output_type": "stream",
     "text": [
      "120\n"
     ]
    }
   ],
   "source": [
    "cities = city_data_df['city'].tolist()\n",
    "cities = set(cities)\n",
    "print(len(cities))"
   ]
  },
  {
   "cell_type": "code",
   "execution_count": 34,
   "id": "e705d378",
   "metadata": {},
   "outputs": [],
   "source": [
    "# merge the dataframes\n",
    "# the how parameter here is new to me\n",
    "# the output of a merge with and without are somewhat visually different\n",
    "city_ride_df = pd.merge(ride_data_df , city_data_df ,how=\"left\", on=[\"city\" ,\"city\"])"
   ]
  },
  {
   "cell_type": "code",
   "execution_count": 35,
   "id": "38395b56",
   "metadata": {},
   "outputs": [
    {
     "data": {
      "text/html": [
       "<div>\n",
       "<style scoped>\n",
       "    .dataframe tbody tr th:only-of-type {\n",
       "        vertical-align: middle;\n",
       "    }\n",
       "\n",
       "    .dataframe tbody tr th {\n",
       "        vertical-align: top;\n",
       "    }\n",
       "\n",
       "    .dataframe thead th {\n",
       "        text-align: right;\n",
       "    }\n",
       "</style>\n",
       "<table border=\"1\" class=\"dataframe\">\n",
       "  <thead>\n",
       "    <tr style=\"text-align: right;\">\n",
       "      <th></th>\n",
       "      <th>city</th>\n",
       "      <th>date</th>\n",
       "      <th>fare</th>\n",
       "      <th>ride_id</th>\n",
       "      <th>driver_count</th>\n",
       "      <th>type</th>\n",
       "    </tr>\n",
       "  </thead>\n",
       "  <tbody>\n",
       "    <tr>\n",
       "      <th>0</th>\n",
       "      <td>Lake Jonathanshire</td>\n",
       "      <td>2019-01-14 10:14:22</td>\n",
       "      <td>13.83</td>\n",
       "      <td>5739410935873</td>\n",
       "      <td>5</td>\n",
       "      <td>Urban</td>\n",
       "    </tr>\n",
       "    <tr>\n",
       "      <th>1</th>\n",
       "      <td>South Michelleport</td>\n",
       "      <td>2019-03-04 18:24:09</td>\n",
       "      <td>30.24</td>\n",
       "      <td>2343912425577</td>\n",
       "      <td>72</td>\n",
       "      <td>Urban</td>\n",
       "    </tr>\n",
       "    <tr>\n",
       "      <th>2</th>\n",
       "      <td>Port Samanthamouth</td>\n",
       "      <td>2019-02-24 04:29:00</td>\n",
       "      <td>33.44</td>\n",
       "      <td>2005065760003</td>\n",
       "      <td>57</td>\n",
       "      <td>Urban</td>\n",
       "    </tr>\n",
       "    <tr>\n",
       "      <th>3</th>\n",
       "      <td>Rodneyfort</td>\n",
       "      <td>2019-02-10 23:22:03</td>\n",
       "      <td>23.44</td>\n",
       "      <td>5149245426178</td>\n",
       "      <td>34</td>\n",
       "      <td>Urban</td>\n",
       "    </tr>\n",
       "    <tr>\n",
       "      <th>4</th>\n",
       "      <td>South Jack</td>\n",
       "      <td>2019-03-06 04:28:35</td>\n",
       "      <td>34.58</td>\n",
       "      <td>3908451377344</td>\n",
       "      <td>46</td>\n",
       "      <td>Urban</td>\n",
       "    </tr>\n",
       "    <tr>\n",
       "      <th>...</th>\n",
       "      <td>...</td>\n",
       "      <td>...</td>\n",
       "      <td>...</td>\n",
       "      <td>...</td>\n",
       "      <td>...</td>\n",
       "      <td>...</td>\n",
       "    </tr>\n",
       "    <tr>\n",
       "      <th>2370</th>\n",
       "      <td>Michaelberg</td>\n",
       "      <td>2019-04-29 17:04:39</td>\n",
       "      <td>13.38</td>\n",
       "      <td>8550365057598</td>\n",
       "      <td>6</td>\n",
       "      <td>Rural</td>\n",
       "    </tr>\n",
       "    <tr>\n",
       "      <th>2371</th>\n",
       "      <td>Lake Latoyabury</td>\n",
       "      <td>2019-01-30 00:05:47</td>\n",
       "      <td>20.76</td>\n",
       "      <td>9018727594352</td>\n",
       "      <td>2</td>\n",
       "      <td>Rural</td>\n",
       "    </tr>\n",
       "    <tr>\n",
       "      <th>2372</th>\n",
       "      <td>North Jaime</td>\n",
       "      <td>2019-02-10 21:03:50</td>\n",
       "      <td>11.11</td>\n",
       "      <td>2781339863778</td>\n",
       "      <td>1</td>\n",
       "      <td>Rural</td>\n",
       "    </tr>\n",
       "    <tr>\n",
       "      <th>2373</th>\n",
       "      <td>West Heather</td>\n",
       "      <td>2019-05-07 19:22:15</td>\n",
       "      <td>44.94</td>\n",
       "      <td>4256853490277</td>\n",
       "      <td>4</td>\n",
       "      <td>Rural</td>\n",
       "    </tr>\n",
       "    <tr>\n",
       "      <th>2374</th>\n",
       "      <td>Newtonview</td>\n",
       "      <td>2019-04-25 10:20:13</td>\n",
       "      <td>55.84</td>\n",
       "      <td>9990581345298</td>\n",
       "      <td>1</td>\n",
       "      <td>Rural</td>\n",
       "    </tr>\n",
       "  </tbody>\n",
       "</table>\n",
       "<p>2375 rows × 6 columns</p>\n",
       "</div>"
      ],
      "text/plain": [
       "                    city                 date   fare        ride_id  \\\n",
       "0     Lake Jonathanshire  2019-01-14 10:14:22  13.83  5739410935873   \n",
       "1     South Michelleport  2019-03-04 18:24:09  30.24  2343912425577   \n",
       "2     Port Samanthamouth  2019-02-24 04:29:00  33.44  2005065760003   \n",
       "3             Rodneyfort  2019-02-10 23:22:03  23.44  5149245426178   \n",
       "4             South Jack  2019-03-06 04:28:35  34.58  3908451377344   \n",
       "...                  ...                  ...    ...            ...   \n",
       "2370         Michaelberg  2019-04-29 17:04:39  13.38  8550365057598   \n",
       "2371     Lake Latoyabury  2019-01-30 00:05:47  20.76  9018727594352   \n",
       "2372         North Jaime  2019-02-10 21:03:50  11.11  2781339863778   \n",
       "2373        West Heather  2019-05-07 19:22:15  44.94  4256853490277   \n",
       "2374          Newtonview  2019-04-25 10:20:13  55.84  9990581345298   \n",
       "\n",
       "      driver_count   type  \n",
       "0                5  Urban  \n",
       "1               72  Urban  \n",
       "2               57  Urban  \n",
       "3               34  Urban  \n",
       "4               46  Urban  \n",
       "...            ...    ...  \n",
       "2370             6  Rural  \n",
       "2371             2  Rural  \n",
       "2372             1  Rural  \n",
       "2373             4  Rural  \n",
       "2374             1  Rural  \n",
       "\n",
       "[2375 rows x 6 columns]"
      ]
     },
     "execution_count": 35,
     "metadata": {},
     "output_type": "execute_result"
    }
   ],
   "source": [
    "city_ride_df"
   ]
  },
  {
   "cell_type": "code",
   "execution_count": 36,
   "id": "8a676082",
   "metadata": {},
   "outputs": [
    {
     "data": {
      "text/plain": [
       "{'Rural', 'Suburban', 'Urban'}"
      ]
     },
     "execution_count": 36,
     "metadata": {},
     "output_type": "execute_result"
    }
   ],
   "source": [
    "city_types =set( city_ride_df['type'].tolist())\n",
    "city_types\n"
   ]
  },
  {
   "cell_type": "code",
   "execution_count": 37,
   "id": "72111ce3",
   "metadata": {},
   "outputs": [],
   "source": [
    "# dataframes for the types of cities\n",
    "rural_df = city_ride_df[city_ride_df['type'] == 'Rural']\n",
    "\n",
    "suburban_df = city_ride_df[city_ride_df['type'] == 'Suburban']\n",
    "\n",
    "urban_df = city_ride_df[city_ride_df['type'] == 'Urban']"
   ]
  },
  {
   "cell_type": "code",
   "execution_count": 38,
   "id": "777e8be0",
   "metadata": {},
   "outputs": [],
   "source": [
    "# total ride counts per city types\n",
    "rural_total_ride = rural_df['ride_id'].count()\n",
    "suburban_total_ride = suburban_df['ride_id'].count()\n",
    "urban_total_ride = urban_df['ride_id'].count()\n"
   ]
  },
  {
   "cell_type": "code",
   "execution_count": 39,
   "id": "a3fde546",
   "metadata": {},
   "outputs": [],
   "source": [
    "# get the no. of rides in the cities per city type\n",
    "rural_cityride_ct = rural_df.groupby(['city']).count()['ride_id']\n",
    "suburban_cityride_ct = suburban_df.groupby(['city']).count()['ride_id']\n",
    "urban_cityride_ct = urban_df.groupby(['city']).count()['ride_id']\n"
   ]
  },
  {
   "cell_type": "code",
   "execution_count": 40,
   "id": "f16eebc7",
   "metadata": {},
   "outputs": [],
   "source": [
    "# get the average fare per city in the three city types\n",
    "avg_rural_fare = rural_df.groupby(['city']).mean()['fare']\n",
    "avg_suburban_fare = suburban_df.groupby(['city']).mean()['fare']\n",
    "avg_urban_fare = urban_df.groupby(['city']).mean()['fare']\n"
   ]
  },
  {
   "cell_type": "code",
   "execution_count": 41,
   "id": "a88a304c",
   "metadata": {},
   "outputs": [],
   "source": [
    "# get the average no. of drivers per city in the three city types\n",
    "avg_rdriver_count = rural_df.groupby(['city']).mean()['driver_count']\n",
    "avg_sdriver_count = suburban_df.groupby(['city']).mean()['driver_count']\n",
    "avg_udriver_count = urban_df.groupby(['city']).mean()['driver_count']"
   ]
  },
  {
   "cell_type": "code",
   "execution_count": 42,
   "id": "f693fc47",
   "metadata": {},
   "outputs": [
    {
     "data": {
      "image/png": "[encoded data removed]",
      "text/plain": [
       "<Figure size 720x432 with 1 Axes>"
      ]
     },
     "metadata": {
      "needs_background": "light"
     },
     "output_type": "display_data"
    }
   ],
   "source": [
    "# plot the graphs no.of rides on x,  avg fare on y\n",
    "fig , ax = plt.subplots(figsize=(10,6))\n",
    "ax.scatter(urban_cityride_ct, \n",
    "           avg_urban_fare,\n",
    "           label='Urban',\n",
    "           s=10*avg_udriver_count,\n",
    "          c = 'coral',\n",
    "           edgecolor='black',\n",
    "           linewidth=1,\n",
    "           alpha=0.8\n",
    "          )\n",
    "\n",
    "ax.scatter(suburban_cityride_ct, avg_suburban_fare,\n",
    "           label='Suburban',\n",
    "           s=10*avg_sdriver_count,\n",
    "          c = 'skyblue', edgecolor='black',\n",
    "           linewidth=1, alpha=0.8\n",
    "          )\n",
    "\n",
    "ax.scatter(rural_cityride_ct, avg_rural_fare,\n",
    "           label='Rural',\n",
    "           s=10*avg_rdriver_count,\n",
    "          c = 'gold', edgecolor='black',\n",
    "           linewidth=1, alpha=0.8\n",
    "          )\n",
    "\n",
    "ax.set_xlabel('no. of rides', fontsize=12)\n",
    "ax.set_ylabel('Avg fare($)', fontsize=12)\n",
    "ax.set_title('PyBer Ride Sharing Data (2019)',  fontsize=20)\n",
    "# create a legend to have the markers all the same size in the label\n",
    "\n",
    "lgnd = ax.legend(fontsize=\"12\", mode=\"Expanded\",\n",
    "                scatterpoints=1, loc=\"best\" , title=\"City Types\")\n",
    "lgnd.legendHandles[0]._sizes = [75]\n",
    "lgnd.legendHandles[1]._sizes = [75]\n",
    "lgnd.legendHandles[2]._sizes = [75]\n",
    "lgnd.get_title().set_fontsize(12)\n",
    "\n",
    "\n",
    "\n",
    "# add a text to the side of the chart .text(x,y, \"message\")\n",
    "ax.text(42,35, \"Note: Circle size correlates with the driver count per city\" , fontsize=\"12\")\n",
    "\n",
    "# save the figure\n",
    "plt.savefig(\"analysis/Fig2.png\")\n",
    "\n",
    "ax.grid(True)\n",
    "plt.show()"
   ]
  },
  {
   "cell_type": "code",
   "execution_count": null,
   "id": "ec7881d4",
   "metadata": {},
   "outputs": [],
   "source": []
  },
  {
   "cell_type": "code",
   "execution_count": 43,
   "id": "9d0254f1",
   "metadata": {},
   "outputs": [
    {
     "data": {
      "text/plain": [
       "count    36.000000\n",
       "mean     17.361111\n",
       "std       4.323707\n",
       "min       9.000000\n",
       "25%      14.000000\n",
       "50%      17.000000\n",
       "75%      19.250000\n",
       "max      27.000000\n",
       "Name: ride_id, dtype: float64"
      ]
     },
     "execution_count": 43,
     "metadata": {},
     "output_type": "execute_result"
    }
   ],
   "source": [
    "# get the summary statistics of the dataframes\n",
    "urban_cityride_ct.describe()\n",
    "rural_cityride_ct.describe()\n",
    "suburban_cityride_ct.describe()\n",
    "# last line of code is what is displayed"
   ]
  },
  {
   "cell_type": "code",
   "execution_count": 56,
   "id": "27d148e8",
   "metadata": {},
   "outputs": [
    {
     "name": "stdout",
     "output_type": "stream",
     "text": [
      "the mean for the ride counts for urban trips is 24.62\n",
      "the median for the ride counts for urban trips is 24.00\n",
      "the mode for the ride counts for urban trips is ModeResult(mode=array([22], dtype=int64), count=array([7]))\n",
      "\n",
      "the mean for the ride counts for suburban trip is 17.36\n",
      "the median for the ride counts for suburban trips is 17.00\n",
      "the mode for the ride counts for suburban trips is ModeResult(mode=array([17], dtype=int64), count=array([7]))\n",
      "\n",
      "the mean for the ride counts for suburban trip is 6.94\n",
      "the median for the ride counts for rural trips is 6.00\n",
      "the mode for the ride counts for rural trips is ModeResult(mode=array([6], dtype=int64), count=array([5]))\n"
     ]
    }
   ],
   "source": [
    "# get the mean of the ride counts per city type\n",
    "mean_urban_count = np.mean(urban_cityride_ct)\n",
    "print(f'the mean for the ride counts for urban trips is {mean_urban_count:.2f}')\n",
    "median_urban_count = np.median(urban_cityride_ct)\n",
    "print(f'the median for the ride counts for urban trips is {median_urban_count:.2f}')\n",
    "mode_urban_count  = sts.mode(urban_cityride_ct)\n",
    "print(f'the mode for the ride counts for urban trips is {mode_urban_count}\\n')\n",
    "\n",
    "\n",
    "\n",
    "mean_suburban_count = np.mean(suburban_cityride_ct)\n",
    "print(f\"the mean for the ride counts for suburban trip is {mean_suburban_count:.2f}\")\n",
    "median_suburban_count = np.median(suburban_cityride_ct)\n",
    "print(f'the median for the ride counts for suburban trips is {median_suburban_count:.2f}')\n",
    "mode_suburban_count  = sts.mode(suburban_cityride_ct)\n",
    "print(f'the mode for the ride counts for suburban trips is {mode_suburban_count}\\n')\n",
    "\n",
    "\n",
    "mean_rural_count = np.mean(rural_cityride_ct)\n",
    "print(f\"the mean for the ride counts for suburban trip is {mean_rural_count:.2f}\")\n",
    "median_rural_count = np.median(rural_cityride_ct)\n",
    "print(f'the median for the ride counts for rural trips is {median_rural_count:.2f}')\n",
    "mode_rural_count  = sts.mode(rural_cityride_ct)\n",
    "print(f'the mode for the ride counts for rural trips is {mode_rural_count}')"
   ]
  },
  {
   "cell_type": "code",
   "execution_count": 58,
   "id": "48d0988e",
   "metadata": {},
   "outputs": [
    {
     "name": "stdout",
     "output_type": "stream",
     "text": [
      "the mean fare price for urban trips is $24.53\n",
      "the median fare price for urban trips is $24.64\n",
      "the mode fare price for urban trips is ModeResult(mode=array([22.86]), count=array([5])).\n",
      "\n",
      "the mean fare price for suburban trips is $30.97\n",
      "the median fare price for suburban trips is $30.75\n",
      "the mode fare price for suburban trips is ModeResult(mode=array([17.99]), count=array([3])).\n",
      "\n",
      "the mean fare price for rural trips is $34.62\n",
      "the median fare price for rural trips is $37.05\n",
      "the mode fare price for rural trips is ModeResult(mode=array([37.05]), count=array([2])).\n"
     ]
    }
   ],
   "source": [
    "urban_fares = urban_df['fare']\n",
    "suburban_fares = suburban_df['fare']\n",
    "rural_fares  = rural_df['fare']\n",
    "\n",
    "mean_urban_fare = np.mean(urban_fares)\n",
    "print(f\"the mean fare price for urban trips is ${mean_urban_fare:.2f}\")\n",
    "median_urban_fare = np.median(urban_fares)\n",
    "print(f\"the median fare price for urban trips is ${median_urban_fare:.2f}\")\n",
    "mode_urban_fare = sts.mode(urban_fares)\n",
    "print(f\"the mode fare price for urban trips is {mode_urban_fare}.\\n\")\n",
    "\n",
    "mean_suburban_fare = np.mean(suburban_fares)\n",
    "print(f\"the mean fare price for suburban trips is ${mean_suburban_fare:.2f}\")\n",
    "median_suburban_fare = np.median(suburban_fares)\n",
    "print(f\"the median fare price for suburban trips is ${median_suburban_fare:.2f}\")\n",
    "mode_suburban_fare = sts.mode(suburban_fares)\n",
    "print(f\"the mode fare price for suburban trips is {mode_suburban_fare}.\\n\")\n",
    "\n",
    "mean_rural_fare = np.mean(rural_fares)\n",
    "print(f\"the mean fare price for rural trips is ${mean_rural_fare:.2f}\")\n",
    "median_rural_fare = np.median(rural_fares)\n",
    "print(f\"the median fare price for rural trips is ${median_rural_fare:.2f}\")\n",
    "mode_rural_fare = sts.mode(rural_fares)\n",
    "print(f\"the mode fare price for rural trips is {mode_rural_fare}.\")"
   ]
  },
  {
   "cell_type": "code",
   "execution_count": 68,
   "id": "9f226655",
   "metadata": {},
   "outputs": [
    {
     "data": {
      "text/plain": [
       "count    125.000000\n",
       "mean      34.623440\n",
       "std       14.558046\n",
       "min       10.110000\n",
       "25%       19.900000\n",
       "50%       37.050000\n",
       "75%       47.070000\n",
       "max       58.550000\n",
       "Name: fare, dtype: float64"
      ]
     },
     "execution_count": 68,
     "metadata": {},
     "output_type": "execute_result"
    }
   ],
   "source": [
    "rural_fares.describe()"
   ]
  },
  {
   "cell_type": "code",
   "execution_count": 62,
   "id": "4db53e3a",
   "metadata": {},
   "outputs": [
    {
     "name": "stdout",
     "output_type": "stream",
     "text": [
      "the mean fare price for urban trips is 37\n",
      "the median fare price for urban trips is 37.0\n",
      "the mode fare price for urban trips is ModeResult(mode=array([39], dtype=int64), count=array([86])).\n",
      "\n",
      "the mean fare price for suburban trips is 14\n",
      "the median fare price for suburban trips is 16.0\n",
      "the mode fare price for suburban trips is ModeResult(mode=array([20], dtype=int64), count=array([79])).\n",
      "\n",
      "the mean fare price for rural trips is 4\n",
      "the median fare price for rural trips is 4.0\n",
      "the mode fare price for rural trips is ModeResult(mode=array([1], dtype=int64), count=array([32])).\n",
      "\n"
     ]
    }
   ],
   "source": [
    "urban_drivers = urban_df['driver_count']\n",
    "suburban_drivers = suburban_df['driver_count']\n",
    "rural_drivers = rural_df['driver_count']\n",
    "\n",
    "mean_urban_drivers = np.mean(urban_drivers)\n",
    "print(f\"the mean fare price for urban trips is {mean_urban_drivers:.0f}\")\n",
    "median_urban_drivers = np.median(urban_drivers)\n",
    "print(f\"the median fare price for urban trips is {median_urban_drivers}\")\n",
    "mode_urban_drivers = sts.mode(urban_drivers)\n",
    "print(f\"the mode fare price for urban trips is {mode_urban_drivers}.\\n\")\n",
    "\n",
    "mean_suburban_drivers = np.mean(suburban_drivers)\n",
    "print(f\"the mean fare price for suburban trips is {mean_suburban_drivers:.0f}\")\n",
    "median_suburban_drivers = np.median(suburban_drivers)\n",
    "print(f\"the median fare price for suburban trips is {median_suburban_drivers}\")\n",
    "mode_suburban_drivers = sts.mode(suburban_drivers)\n",
    "print(f\"the mode fare price for suburban trips is {mode_suburban_drivers}.\\n\")\n",
    "\n",
    "mean_rural_drivers = np.mean(rural_drivers)\n",
    "print(f\"the mean fare price for rural trips is {mean_rural_drivers:.0f}\")\n",
    "median_rural_drivers = np.median(rural_drivers)\n",
    "print(f\"the median fare price for rural trips is {median_rural_drivers}\")\n",
    "mode_rural_drivers = sts.mode(rural_drivers)\n",
    "print(f\"the mode fare price for rural trips is {mode_rural_drivers}.\\n\")"
   ]
  },
  {
   "cell_type": "code",
   "execution_count": 65,
   "id": "ca6f8d51",
   "metadata": {},
   "outputs": [
    {
     "data": {
      "text/plain": [
       "<function matplotlib.pyplot.show(close=None, block=None)>"
      ]
     },
     "execution_count": 65,
     "metadata": {},
     "output_type": "execute_result"
    },
    {
     "data": {
      "image/png": "[encoded data removed]",
      "text/plain": [
       "<Figure size 720x432 with 1 Axes>"
      ]
     },
     "metadata": {
      "needs_background": "light"
     },
     "output_type": "display_data"
    }
   ],
   "source": [
    "# box and whiskers chart for the ride count \n",
    "x_labels = [\"Urban\" ,\"Suburban\" , \"Rural\"]\n",
    "ride_count_data = [urban_cityride_ct , suburban_cityride_ct , rural_cityride_ct]\n",
    "fig , ax = plt.subplots(figsize = (10,6))\n",
    "ax.boxplot(ride_count_data, labels = x_labels)\n",
    "ax.set_title(\"Ride Count Data(2019)\")\n",
    "ax.set_ylabel = ('Number of Rides')\n",
    "ax.set_yticks(np.arange(10,41, step = 2.0))\n",
    "ax.grid()\n",
    "plt.show()\n",
    "# save the fig\n",
    "plt.savefig(\"analysis/Fig3.png\")"
   ]
  },
  {
   "cell_type": "code",
   "execution_count": 76,
   "id": "f125afdd",
   "metadata": {},
   "outputs": [
    {
     "data": {
      "image/png": "[encoded data removed]",
      "text/plain": [
       "<Figure size 720x432 with 1 Axes>"
      ]
     },
     "metadata": {
      "needs_background": "light"
     },
     "output_type": "display_data"
    },
    {
     "data": {
      "text/plain": [
       "<Figure size 432x288 with 0 Axes>"
      ]
     },
     "metadata": {},
     "output_type": "display_data"
    }
   ],
   "source": [
    "# box and whiskers chart for fare data\n",
    "x_labels = [\"Urban\", \"Suburban\" , \"Rural\"]\n",
    "fare_data = [urban_fares , suburban_fares , rural_fares]\n",
    "fig ,ax = plt.subplots(figsize = (10,6))\n",
    "ax.boxplot(fare_data , labels = x_labels)\n",
    "ax.set_yticks(np.arange(0,60, step = 5)) \n",
    "ax.set_ylabel(\"Fare (USD)\", fontsize = 12)\n",
    "ax.set_title(\"Cities Fare data (2019)\", fontsize =\"20\")\n",
    "ax.grid()\n",
    "plt.show()\n",
    "# save this figure\n",
    "plt.savefig(\"analysis/Fig4.png\")"
   ]
  },
  {
   "cell_type": "code",
   "execution_count": 77,
   "id": "351cf89e",
   "metadata": {},
   "outputs": [
    {
     "data": {
      "image/png": "[encoded data removed]",
      "text/plain": [
       "<Figure size 720x432 with 1 Axes>"
      ]
     },
     "metadata": {
      "needs_background": "light"
     },
     "output_type": "display_data"
    },
    {
     "data": {
      "text/plain": [
       "<Figure size 432x288 with 0 Axes>"
      ]
     },
     "metadata": {},
     "output_type": "display_data"
    }
   ],
   "source": [
    "# box and whiskers chart for driver_count data\n",
    "x_labels = [\"Urban\", \"Suburban\" , \"Rural\"]\n",
    "driver_data = [urban_drivers , suburban_drivers , rural_drivers]\n",
    "fig ,ax = plt.subplots(figsize = (10,6))\n",
    "ax.boxplot(driver_data , labels = x_labels)\n",
    "ax.set_yticks(np.arange(0,60, step = 5)) \n",
    "ax.set_ylabel(\"Fare (USD)\", fontsize = 12)\n",
    "ax.set_title(\"Cities Fare data (2019)\", fontsize =\"20\")\n",
    "ax.grid()\n",
    "plt.show()\n",
    "# save this figure\n",
    "plt.savefig(\"analysis/Fig5.png\")"
   ]
  },
  {
   "cell_type": "code",
   "execution_count": null,
   "id": "db9938a2",
   "metadata": {},
   "outputs": [],
   "source": []
  }
 ],
 "metadata": {
  "kernelspec": {
   "display_name": "PythonData",
   "language": "python",
   "name": "pythondata"
  },
  "language_info": {
   "codemirror_mode": {
    "name": "ipython",
    "version": 3
   },
   "file_extension": ".py",
   "mimetype": "text/x-python",
   "name": "python",
   "nbconvert_exporter": "python",
   "pygments_lexer": "ipython3",
   "version": "3.7.11"
  }
 },
 "nbformat": 4,
 "nbformat_minor": 5
}
